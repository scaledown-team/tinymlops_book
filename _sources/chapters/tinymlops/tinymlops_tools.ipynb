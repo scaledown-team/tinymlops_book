{
 "cells": [
  {
   "cell_type": "markdown",
   "id": "dafbbda2",
   "metadata": {},
   "source": [
    "# Tools for TinyMLOps"
   ]
  },
  {
   "cell_type": "code",
   "execution_count": null,
   "id": "1f18e5b9",
   "metadata": {},
   "outputs": [],
   "source": []
  }
 ],
 "metadata": {
  "kernelspec": {
   "display_name": "Python 3",
   "language": "python",
   "name": "python3"
  },
  "language_info": {
   "codemirror_mode": {
    "name": "ipython",
    "version": 3
   },
   "file_extension": ".py",
   "mimetype": "text/x-python",
   "name": "python",
   "nbconvert_exporter": "python",
   "pygments_lexer": "ipython3",
   "version": "3.6.5"
  }
 },
 "nbformat": 4,
 "nbformat_minor": 5
}
