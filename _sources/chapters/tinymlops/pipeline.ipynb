{
 "cells": [
  {
   "cell_type": "markdown",
   "id": "1a3c88a0",
   "metadata": {},
   "source": [
    "# A Typical TinyMLOps Pipeline\n",
    "\n",
    "Previously you saw what a MLOps pipeline looks like. Now we will take a look at the components of a TinyMLOps pipeline."
   ]
  },
  {
   "cell_type": "code",
   "execution_count": null,
   "id": "d95a5712",
   "metadata": {},
   "outputs": [],
   "source": []
  }
 ],
 "metadata": {
  "kernelspec": {
   "display_name": "Python 3",
   "language": "python",
   "name": "python3"
  },
  "language_info": {
   "codemirror_mode": {
    "name": "ipython",
    "version": 3
   },
   "file_extension": ".py",
   "mimetype": "text/x-python",
   "name": "python",
   "nbconvert_exporter": "python",
   "pygments_lexer": "ipython3",
   "version": "3.6.5"
  }
 },
 "nbformat": 4,
 "nbformat_minor": 5
}
