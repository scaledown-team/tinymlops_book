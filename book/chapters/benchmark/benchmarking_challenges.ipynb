{
 "cells": [
  {
   "cell_type": "markdown",
   "id": "203ca46a",
   "metadata": {},
   "source": [
    "# Challenges in Benchmarking TinyML Systems"
   ]
  },
  {
   "cell_type": "code",
   "execution_count": null,
   "id": "5262ac09",
   "metadata": {},
   "outputs": [],
   "source": []
  }
 ],
 "metadata": {
  "kernelspec": {
   "display_name": "Python 3",
   "language": "python",
   "name": "python3"
  },
  "language_info": {
   "codemirror_mode": {
    "name": "ipython",
    "version": 3
   },
   "file_extension": ".py",
   "mimetype": "text/x-python",
   "name": "python",
   "nbconvert_exporter": "python",
   "pygments_lexer": "ipython3",
   "version": "3.6.5"
  }
 },
 "nbformat": 4,
 "nbformat_minor": 5
}
