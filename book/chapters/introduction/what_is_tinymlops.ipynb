{
 "cells": [
  {
   "cell_type": "markdown",
   "id": "6744aafe",
   "metadata": {},
   "source": [
    "# What is TinyMLOps?\n",
    "\n",
    "Building products for TinyML introduces new challenges and tools as well as changes a typical MLOps pipeline by introducing new steps.\n",
    "\n",
    "One of the challenges is how to update models in deployed devices. If your target device has an internet connection, then you could have the device query an endpoint regularly checking for updates (or you could send a request to the device). But if your TinyML devices are deployed in an area where it cannot get access to internet or any other network, then updating your models, and even monitoring the performance of your device gets challenging.\n",
    "\n",
    "TinyMLOps are a set of best practices that can help you run machine learning applications on TinyML or edge computing devices successfully.\n",
    "\n",
    "In the next chapter, we will dive deeper into these challenges, some of the tools available and take a look at the components of a TinyMLOps pipeline."
   ]
  },
  {
   "cell_type": "code",
   "execution_count": null,
   "id": "aa7cc797",
   "metadata": {},
   "outputs": [],
   "source": []
  }
 ],
 "metadata": {
  "kernelspec": {
   "display_name": "Python 3",
   "language": "python",
   "name": "python3"
  },
  "language_info": {
   "codemirror_mode": {
    "name": "ipython",
    "version": 3
   },
   "file_extension": ".py",
   "mimetype": "text/x-python",
   "name": "python",
   "nbconvert_exporter": "python",
   "pygments_lexer": "ipython3",
   "version": "3.6.5"
  }
 },
 "nbformat": 4,
 "nbformat_minor": 5
}
