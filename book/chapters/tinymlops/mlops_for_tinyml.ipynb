{
 "cells": [
  {
   "cell_type": "markdown",
   "id": "262384a3",
   "metadata": {},
   "source": [
    "# MLOps for TinyML"
   ]
  },
  {
   "cell_type": "code",
   "execution_count": null,
   "id": "f43c3c12",
   "metadata": {},
   "outputs": [],
   "source": []
  }
 ],
 "metadata": {
  "kernelspec": {
   "display_name": "Python 3",
   "language": "python",
   "name": "python3"
  },
  "language_info": {
   "codemirror_mode": {
    "name": "ipython",
    "version": 3
   },
   "file_extension": ".py",
   "mimetype": "text/x-python",
   "name": "python",
   "nbconvert_exporter": "python",
   "pygments_lexer": "ipython3",
   "version": "3.6.5"
  }
 },
 "nbformat": 4,
 "nbformat_minor": 5
}
